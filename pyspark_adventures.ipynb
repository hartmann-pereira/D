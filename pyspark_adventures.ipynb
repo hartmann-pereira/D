{
  "nbformat": 4,
  "nbformat_minor": 0,
  "metadata": {
    "kernelspec": {
      "display_name": "Python 3",
      "language": "python",
      "name": "python3"
    },
    "language_info": {
      "codemirror_mode": {
        "name": "ipython",
        "version": 3
      },
      "file_extension": ".py",
      "mimetype": "text/x-python",
      "name": "python",
      "nbconvert_exporter": "python",
      "pygments_lexer": "ipython3",
      "version": "3.7.3"
    },
    "colab": {
      "name": "lab04-spark1 (1).ipynb",
      "provenance": [],
      "collapsed_sections": [],
      "include_colab_link": true
    }
  },
  "cells": [
    {
      "cell_type": "markdown",
      "metadata": {
        "id": "view-in-github",
        "colab_type": "text"
      },
      "source": [
        "<a href=\"https://colab.research.google.com/github/hartmann-pereira/D/blob/main/pyspark_adventures.ipynb\" target=\"_parent\"><img src=\"https://colab.research.google.com/assets/colab-badge.svg\" alt=\"Open In Colab\"/></a>"
      ]
    },
    {
      "cell_type": "markdown",
      "metadata": {
        "id": "ZONWz-2526os"
      },
      "source": [
        "# Python Spark Example\n",
        "\n",
        "Word count implemented in pure Python.\n",
        "\n",
        "This notebook exemplifies the execution of a Spark program in Python.\n",
        "In this example, spark runs in standalone mode and reads data from the local filesystem, while in cluster mode data is read typically from HDFS dsitributed file system.\n",
        "\n",
        "Spark documentation available at:\n",
        "https://spark.apache.org/docs/2.3.1/\n"
      ]
    },
    {
      "cell_type": "markdown",
      "metadata": {
        "id": "DngC2Kh026ox"
      },
      "source": [
        "### Download the dataset "
      ]
    },
    {
      "cell_type": "code",
      "metadata": {
        "scrolled": true,
        "colab": {
          "base_uri": "https://localhost:8080/"
        },
        "id": "LLQmzX1r26oy",
        "outputId": "78e98aa9-0f25-44bd-c43b-123ea7c440e6"
      },
      "source": [
        "!wget -O os_maias.txt https://www.dropbox.com/s/n24v0z7y79np319/os_maias.txt?dl=0"
      ],
      "execution_count": 1,
      "outputs": [
        {
          "output_type": "stream",
          "name": "stdout",
          "text": [
            "--2021-11-01 18:56:18--  https://www.dropbox.com/s/n24v0z7y79np319/os_maias.txt?dl=0\n",
            "Resolving www.dropbox.com (www.dropbox.com)... 162.125.5.18, 2620:100:601f:18::a27d:912\n",
            "Connecting to www.dropbox.com (www.dropbox.com)|162.125.5.18|:443... connected.\n",
            "HTTP request sent, awaiting response... 301 Moved Permanently\n",
            "Location: /s/raw/n24v0z7y79np319/os_maias.txt [following]\n",
            "--2021-11-01 18:56:18--  https://www.dropbox.com/s/raw/n24v0z7y79np319/os_maias.txt\n",
            "Reusing existing connection to www.dropbox.com:443.\n",
            "HTTP request sent, awaiting response... 302 Found\n",
            "Location: https://ucb1617c2df579f47cd6e0aede51.dl.dropboxusercontent.com/cd/0/inline/BZL2o0Bife9MsEYWEDC52AKtGjdLcXWKUplslZkmS267RvzzqMBntOSGQElOoqha9DDbekvbXMjlMFmvG89Tu6MC49ZGLc96aqIw65-oi3rX1n2GLaOaZkAKZ-ig9-PpYqikrAAlu9BFT4nt69nZEQQC/file# [following]\n",
            "--2021-11-01 18:56:19--  https://ucb1617c2df579f47cd6e0aede51.dl.dropboxusercontent.com/cd/0/inline/BZL2o0Bife9MsEYWEDC52AKtGjdLcXWKUplslZkmS267RvzzqMBntOSGQElOoqha9DDbekvbXMjlMFmvG89Tu6MC49ZGLc96aqIw65-oi3rX1n2GLaOaZkAKZ-ig9-PpYqikrAAlu9BFT4nt69nZEQQC/file\n",
            "Resolving ucb1617c2df579f47cd6e0aede51.dl.dropboxusercontent.com (ucb1617c2df579f47cd6e0aede51.dl.dropboxusercontent.com)... 162.125.5.15, 2620:100:601d:15::a27d:50f\n",
            "Connecting to ucb1617c2df579f47cd6e0aede51.dl.dropboxusercontent.com (ucb1617c2df579f47cd6e0aede51.dl.dropboxusercontent.com)|162.125.5.15|:443... connected.\n",
            "HTTP request sent, awaiting response... 200 OK\n",
            "Length: 1292368 (1.2M) [text/plain]\n",
            "Saving to: ‘os_maias.txt’\n",
            "\n",
            "os_maias.txt        100%[===================>]   1.23M  --.-KB/s    in 0.1s    \n",
            "\n",
            "2021-11-01 18:56:19 (11.4 MB/s) - ‘os_maias.txt’ saved [1292368/1292368]\n",
            "\n"
          ]
        }
      ]
    },
    {
      "cell_type": "markdown",
      "metadata": {
        "id": "JEu8wkWB26o0"
      },
      "source": [
        "## WordCount Example\n",
        "Read the words from input and count them.\n",
        "\n",
        "The processing executes the following steps:\n",
        "\n",
        "+ Filter empty liness.\n",
        "+ (Flat)Maps each line to a sequence of words.\n",
        "+ Maps each word in a tuple.\n",
        "+ Reduces by key, using function sum.\n",
        "+ Takes and print the first 10 results."
      ]
    },
    {
      "cell_type": "code",
      "metadata": {
        "colab": {
          "base_uri": "https://localhost:8080/"
        },
        "id": "-pfoMiLo26o1",
        "outputId": "3e13ffa9-0117-4b1c-ebb2-3c33b9505079"
      },
      "source": [
        "# instalar as dependências\n",
        "!apt-get install openjdk-8-jdk-headless -qq > /dev/null\n",
        "!wget -q https://archive.apache.org/dist/spark/spark-2.4.4/spark-2.4.4-bin-hadoop2.7.tgz\n",
        "!tar xf spark-2.4.4-bin-hadoop2.7.tgz\n",
        "!pip install -q findspark\n",
        "# configurar as variáveis de ambiente\n",
        "import os\n",
        "os.environ[\"JAVA_HOME\"] = \"/usr/lib/jvm/java-8-openjdk-amd64\"\n",
        "os.environ[\"SPARK_HOME\"] = \"/content/spark-2.4.4-bin-hadoop2.7\"\n",
        "\n",
        "# tornar o pyspark \"importável\"\n",
        "import findspark\n",
        "findspark.init('spark-2.4.4-bin-hadoop2.7')\n",
        "\n",
        "import pyspark\n",
        "from operator import add as sum\n",
        "\n",
        "sc = pyspark.SparkContext('local[*]')\n",
        "try :\n",
        "    lines = sc.textFile('os_maias.txt')\n",
        "    non_empty_lines = lines.filter( lambda line : len(line) > 0 )\n",
        "    words = non_empty_lines.flatMap( lambda line : line.split(' '))\n",
        "    words_tuples = words.map( lambda word : (word, 1))\n",
        "    occurrences = words_tuples.reduceByKey( sum )\n",
        "    top = occurrences.map(lambda x: (x[1], x[0])).sortByKey(False)\n",
        "    for (k,v) in top.take(10):\n",
        "        print( k, v )\n",
        "\n",
        "    #for (k,v) in occurrences.take(10):\n",
        "     #   print( k, v )\n",
        "    \n",
        "    \n",
        "\n",
        "    sc.stop()\n",
        "except:\n",
        "    sc.stop()\n"
      ],
      "execution_count": 10,
      "outputs": [
        {
          "output_type": "stream",
          "name": "stdout",
          "text": [
            "8308 de\n",
            "6720 a\n",
            "6602 o\n",
            "4846 que\n",
            "4441 e\n",
            "3535 -\n",
            "3004 um\n",
            "2792 com\n",
            "2564 do\n",
            "2200 da\n"
          ]
        }
      ]
    },
    {
      "cell_type": "markdown",
      "metadata": {
        "id": "KLz-qGnX26o2"
      },
      "source": [
        "## Sorted WordCount Example\n",
        "Get the 10 words that appear more frequently.\n"
      ]
    },
    {
      "cell_type": "code",
      "metadata": {
        "colab": {
          "base_uri": "https://localhost:8080/"
        },
        "id": "m-lo7EZj26o3",
        "outputId": "b386b9c9-9426-4d4f-f4d1-d0764e73c91c"
      },
      "source": [
        "!wget -O web_log.txt https://www.dropbox.com/s/0r8902uj9yum7dg/web.log?dl=0\n"
      ],
      "execution_count": 11,
      "outputs": [
        {
          "output_type": "stream",
          "name": "stdout",
          "text": [
            "--2021-11-01 19:44:47--  https://www.dropbox.com/s/0r8902uj9yum7dg/web.log?dl=0\n",
            "Resolving www.dropbox.com (www.dropbox.com)... 162.125.5.18, 2620:100:601d:18::a27d:512\n",
            "Connecting to www.dropbox.com (www.dropbox.com)|162.125.5.18|:443... connected.\n",
            "HTTP request sent, awaiting response... 301 Moved Permanently\n",
            "Location: /s/raw/0r8902uj9yum7dg/web.log [following]\n",
            "--2021-11-01 19:44:47--  https://www.dropbox.com/s/raw/0r8902uj9yum7dg/web.log\n",
            "Reusing existing connection to www.dropbox.com:443.\n",
            "HTTP request sent, awaiting response... 302 Found\n",
            "Location: https://ucbb83156adc9fa6170cb85b268a.dl.dropboxusercontent.com/cd/0/inline/BZLdUkIzfSQxeyScjMYb2sDAU5OVwUZwRZBbzPwBwGOOMKRhugky5Wa3pQfa9LHQGVPD69cVpQxavk-cU41T2r94o8oSfHIBS44-jLjqRy-rNDy4gc17Bc0bkNw7ctgL3wj9py4Xm69LkFq1Irt7XfPN/file# [following]\n",
            "--2021-11-01 19:44:47--  https://ucbb83156adc9fa6170cb85b268a.dl.dropboxusercontent.com/cd/0/inline/BZLdUkIzfSQxeyScjMYb2sDAU5OVwUZwRZBbzPwBwGOOMKRhugky5Wa3pQfa9LHQGVPD69cVpQxavk-cU41T2r94o8oSfHIBS44-jLjqRy-rNDy4gc17Bc0bkNw7ctgL3wj9py4Xm69LkFq1Irt7XfPN/file\n",
            "Resolving ucbb83156adc9fa6170cb85b268a.dl.dropboxusercontent.com (ucbb83156adc9fa6170cb85b268a.dl.dropboxusercontent.com)... 162.125.5.15, 2620:100:601d:15::a27d:50f\n",
            "Connecting to ucbb83156adc9fa6170cb85b268a.dl.dropboxusercontent.com (ucbb83156adc9fa6170cb85b268a.dl.dropboxusercontent.com)|162.125.5.15|:443... connected.\n",
            "HTTP request sent, awaiting response... 200 OK\n",
            "Length: 11758533 (11M) [text/plain]\n",
            "Saving to: ‘web_log.txt’\n",
            "\n",
            "web_log.txt         100%[===================>]  11.21M  36.5MB/s    in 0.3s    \n",
            "\n",
            "2021-11-01 19:44:48 (36.5 MB/s) - ‘web_log.txt’ saved [11758533/11758533]\n",
            "\n"
          ]
        }
      ]
    },
    {
      "cell_type": "code",
      "metadata": {
        "id": "ZkbsdShwCLdw"
      },
      "source": [
        "sc = pyspark.SparkContext('local[*]')"
      ],
      "execution_count": 12,
      "outputs": []
    },
    {
      "cell_type": "code",
      "metadata": {
        "colab": {
          "base_uri": "https://localhost:8080/"
        },
        "id": "eGQ1D-fdCSqT",
        "outputId": "e01f053e-5837-49d3-b50f-3cd17ac4f980"
      },
      "source": [
        "try:\n",
        "  lines = sc.textFile('web_log.txt')\n",
        "  non_empty_lines = lines.filter(lambda line: len(line) > 0)\n",
        "  ips = non_empty_lines.map(lambda line:line.split(\" \")[1])\n",
        "  distinct_ips = ips.distinct()\n",
        "  for v in distinct_ips.collect():\n",
        "    print(v) \n",
        "  sc.stop()\n",
        "except:\n",
        "  sc.stop()"
      ],
      "execution_count": 13,
      "outputs": [
        {
          "output_type": "stream",
          "name": "stdout",
          "text": [
            "185.28.193.95\n",
            "2002:894a:3a93:d:250:56ff:fe00:88c0\n",
            "192.241.151.220\n",
            "97.77.104.22\n",
            "211.140.26.58\n",
            "2602:ff62:104:7c9:8000::\n",
            "120.52.73.98\n",
            "202.106.16.36\n",
            "2001:41d0:8:e7b5::1\n",
            "201.18.115.114\n",
            "2a02:c207:2008:5973::1\n",
            "31.14.134.193\n",
            "195.225.123.14\n",
            "118.178.86.82\n",
            "202.98.152.252\n",
            "82.146.37.33\n",
            "2001:41d0:a:2417::1\n",
            "217.61.2.106\n",
            "180.234.223.91\n",
            "128.199.215.91\n",
            "123.30.108.67\n",
            "202.170.126.68\n",
            "46.14.171.138\n",
            "125.31.19.25\n",
            "177.159.113.114\n",
            "81.169.232.7\n",
            "52.50.2.169\n",
            "177.54.250.18\n",
            "192.81.220.47\n",
            "177.220.156.58\n",
            "14.152.90.148\n",
            "200.168.250.196\n",
            "71.183.112.122\n",
            "119.29.183.143\n",
            "207.249.125.35\n",
            "41.76.44.76\n",
            "137.74.254.198\n",
            "5.10.167.204\n",
            "187.60.170.22\n",
            "2a02:c207:2009:3128::1\n",
            "13.67.211.33\n",
            "90.152.38.178\n",
            "203.70.11.180\n",
            "2404:8000:90:1:42f2:e9ff:fe32:7928\n",
            "177.89.161.223\n",
            "173.239.197.125\n",
            "190.15.222.55\n",
            "119.29.119.49\n",
            "103.27.118.146\n",
            "120.92.3.127\n",
            "94.177.240.125\n",
            "191.102.89.10\n",
            "91.194.42.51\n",
            "5.196.58.88\n",
            "184.49.237.6\n",
            "118.70.212.142\n",
            "151.80.197.192\n",
            "202.29.221.90\n",
            "89.191.131.243\n",
            "138.197.28.136\n",
            "85.143.210.233\n",
            "165.231.0.242\n",
            "41.160.187.186\n",
            "163.172.67.180\n",
            "209.133.66.214\n",
            "52.65.134.56\n",
            "120.55.83.30\n",
            "69.162.139.9\n",
            "64.134.242.54\n",
            "92.60.126.169\n",
            "115.248.237.77\n",
            "51.255.199.243\n",
            "187.190.248.173\n",
            "106.255.232.130\n",
            "109.234.35.229\n",
            "191.96.5.142\n",
            "41.220.28.138\n",
            "192.42.116.16\n",
            "92.222.107.50\n",
            "163.172.160.182\n",
            "209.66.119.150\n",
            "185.69.154.59\n",
            "185.15.42.51\n",
            "106.37.189.69\n",
            "88.157.128.134\n",
            "37.139.9.11\n",
            "178.22.148.122\n",
            "202.47.236.252\n",
            "2a02:c207:2008:5497::1\n",
            "2a01:488:66:1000:5c33:8503:0:1\n",
            "120.52.73.97\n",
            "94.177.171.187\n",
            "125.31.1.27\n",
            "2a02:c207:2008:5757::1\n",
            "41.169.97.106\n",
            "114.215.150.13\n",
            "92.222.108.219\n",
            "189.206.33.130\n",
            "2001:41d0:1004:2670::\n",
            "61.132.241.109\n",
            "198.50.206.0\n",
            "123.207.96.93\n",
            "175.41.139.245\n",
            "109.238.227.27\n",
            "185.15.43.51\n",
            "182.35.20.128\n",
            "89.238.130.58\n",
            "67.205.145.108\n",
            "181.215.103.234\n",
            "117.176.62.148\n",
            "96.234.43.134\n",
            "200.7.160.61\n",
            "101.200.154.90\n",
            "120.25.166.134\n",
            "103.1.236.112\n",
            "5.135.204.121\n",
            "210.48.237.254\n",
            "119.254.92.52\n",
            "202.107.238.51\n",
            "119.29.232.113\n",
            "212.166.53.168\n",
            "77.81.226.238\n",
            "187.84.222.153\n",
            "121.41.110.73\n",
            "103.58.117.228\n",
            "69.181.205.101\n",
            "222.186.161.215\n",
            "123.30.75.115\n",
            "79.104.50.62\n",
            "122.155.222.98\n",
            "43.243.112.113\n",
            "113.185.19.192\n",
            "2001:41d0:8:11c6::\n",
            "139.199.158.169\n",
            "123.30.238.16\n",
            "95.128.43.164\n",
            "190.112.111.245\n",
            "50.53.181.45\n",
            "167.114.89.195\n",
            "2a00:6d40:60:6a2e::1\n",
            "116.93.119.36\n",
            "118.178.188.177\n",
            "200.29.191.149\n",
            "81.168.48.231\n",
            "185.38.14.215\n",
            "187.60.219.248\n",
            "122.224.227.202\n",
            "103.18.4.13\n",
            "122.154.227.70\n",
            "192.25.162.203\n",
            "88.198.110.130\n",
            "202.162.214.118\n",
            "54.249.6.200\n",
            "13.69.251.167\n",
            "121.199.40.205\n",
            "52.57.198.130\n",
            "210.91.48.122\n",
            "2a02:c205:2008:9547::1\n",
            "59.51.27.213\n",
            "37.187.129.166\n",
            "85.194.241.205\n",
            "148.245.105.25\n",
            "204.8.156.142\n",
            "124.42.7.103\n",
            "222.35.13.232\n",
            "64.74.215.139\n",
            "123.127.217.155\n"
          ]
        }
      ]
    }
  ]
}